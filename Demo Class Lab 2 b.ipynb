{
 "cells": [
  {
   "cell_type": "code",
   "execution_count": 1,
   "metadata": {},
   "outputs": [
    {
     "name": "stdout",
     "output_type": "stream",
     "text": [
      "hello world\n"
     ]
    }
   ],
   "source": [
    "# 1. Print Hello World... Where we usually start\n",
    "print(\"hello world\");"
   ]
  },
  {
   "cell_type": "code",
   "execution_count": 2,
   "metadata": {},
   "outputs": [
    {
     "name": "stdout",
     "output_type": "stream",
     "text": [
      "The value of x after swapping: 10\n",
      "The value of y after swapping: 5\n"
     ]
    }
   ],
   "source": [
    "# 2. Python program to swap two variables\n",
    "\n",
    "x = 5\n",
    "y = 10\n",
    "\n",
    "# To take inputs from the user\n",
    "#x = input('Enter value of x: ')\n",
    "#y = input('Enter value of y: ')\n",
    "\n",
    "# create a temporary variable and swap the values\n",
    "temp = x\n",
    "x = y\n",
    "y = temp\n",
    "\n",
    "print('The value of x after swapping: {}'.format(x))\n",
    "print('The value of y after swapping: {}'.format(y))\n"
   ]
  },
  {
   "cell_type": "code",
   "execution_count": 1,
   "metadata": {},
   "outputs": [
    {
     "name": "stdout",
     "output_type": "stream",
     "text": [
      "Enter a string:\n",
      "django\n",
      "ognajd\n"
     ]
    }
   ],
   "source": [
    "# 3. Reversing a string - one of the many ways!\n",
    "def string_reverse(str1):\n",
    "    rstr1 = ''\n",
    "    index = len(str1)\n",
    "    while index > 0:\n",
    "        rstr1 += str1[ index - 1 ]\n",
    "        index = index - 1\n",
    "    return rstr1\n",
    "\n",
    "str2= input(\"Enter a string:\\n\")\n",
    "print(string_reverse(str2))\n"
   ]
  },
  {
   "cell_type": "code",
   "execution_count": 2,
   "metadata": {},
   "outputs": [
    {
     "name": "stdout",
     "output_type": "stream",
     "text": [
      "2 * 1 = 2\n",
      "2 * 2 = 4\n",
      "2 * 3 = 6\n",
      "2 * 4 = 8\n",
      "2 * 5 = 10\n",
      "2 * 6 = 12\n",
      "2 * 7 = 14\n",
      "2 * 8 = 16\n",
      "2 * 9 = 18\n",
      "2 * 10 = 20\n",
      "\n"
     ]
    }
   ],
   "source": [
    "# Multiplication Table to understand  - Running with- outer loop and innerloop\n",
    "'''\n",
    "number in range() expression returns a boolean value:\n",
    "True if number is present in the range(), \n",
    "False if number is not present in the range.\n",
    "\n",
    "Example:\n",
    "range_1 = range(2, 20, 3)\n",
    "number = int(input('Enter a number : '))\n",
    " \n",
    "if number in range_1 :\n",
    "    print(number, 'is present in the range.')\n",
    "else :\n",
    "    print(number, 'is not present in the range.')\n",
    "    \n",
    "range() in Loops acts bit different\n",
    "range() function returns an object that generates a sequence of integers. \n",
    "These integers range from from start (inclusive) to stop (exclusive) with adjacent integers separated by step.\n",
    "range(i, j) produces i, i+1, i+2, …, j-1. For example, range(2, 20, 3) means 2, 5, 8, 11, 14, 17.\n",
    "\n",
    "start has a default value of 0. And you can just provide stop as argument to range() function. \n",
    "So range(4) means a sequence of integers 0, 1, 2, 3.\n",
    "\n",
    "Try this \n",
    "1.\n",
    "for i in range(9) :\n",
    "    print(i)\n",
    "2.  \n",
    "for i in range(4, 9) :\n",
    "    print(i)\n",
    "    \n",
    "3. for i in range(4, 9, 2) :\n",
    "    print(i)\n",
    "    \n",
    "What did you understand!\n",
    "'''\n",
    "for i in range(2, 3):\n",
    "\n",
    "\t# Printing inside the outer loop run only for 2\n",
    "\t# Running inner loop from 1 to 10\n",
    "\tfor j in range(1, 11):\n",
    "\n",
    "\t\t# Printing inside the inner loop\n",
    "\t\tprint(i, \"*\", j, \"=\", i*j)\n",
    "\t# Printing inside the outer loop\n",
    "\tprint()\n"
   ]
  },
  {
   "cell_type": "code",
   "execution_count": 6,
   "metadata": {},
   "outputs": [
    {
     "name": "stdout",
     "output_type": "stream",
     "text": [
      "0\n",
      "1\n",
      "2\n",
      "3\n",
      "4\n",
      "5\n",
      "6\n",
      "7\n",
      "8\n"
     ]
    }
   ],
   "source": [
    "#range( start, stop, step)\n",
    "# start/step is optional ---default value of start =0\n",
    "for i in range(9) :\n",
    "    print(i)"
   ]
  },
  {
   "cell_type": "code",
   "execution_count": 4,
   "metadata": {},
   "outputs": [
    {
     "name": "stdout",
     "output_type": "stream",
     "text": [
      "4\n",
      "5\n",
      "6\n",
      "7\n",
      "8\n"
     ]
    }
   ],
   "source": [
    "for i in range(4, 9) :\n",
    "    print(i)"
   ]
  },
  {
   "cell_type": "code",
   "execution_count": 5,
   "metadata": {},
   "outputs": [
    {
     "name": "stdout",
     "output_type": "stream",
     "text": [
      "4\n",
      "6\n",
      "8\n"
     ]
    }
   ],
   "source": [
    "for i in range(4, 9, 2) :\n",
    "    print(i)"
   ]
  },
  {
   "cell_type": "code",
   "execution_count": 8,
   "metadata": {},
   "outputs": [
    {
     "name": "stdout",
     "output_type": "stream",
     "text": [
      "Enter number of rows: 3\n",
      "1\n",
      "22\n",
      "333\n"
     ]
    }
   ],
   "source": [
    "# Another program to learn loops -Pattern Printing- here goes a simple one\n",
    "n = int(input(\"Enter number of rows: \"))\n",
    "'''\n",
    "The end parameter in the print function is used to add any string.\n",
    "At the end of the output of the print statement in python. By defa\n",
    "ult, the print function ends with a newline.\n",
    "'''\n",
    "for i in range(1,n+1):\n",
    "    for j in range(1, i+1):\n",
    "        print(i, end=\"\")\n",
    "    print()"
   ]
  },
  {
   "cell_type": "code",
   "execution_count": 11,
   "metadata": {},
   "outputs": [
    {
     "name": "stdout",
     "output_type": "stream",
     "text": [
      "Type a sentence with more than 3 words : \n",
      "i am sini raj\n",
      "Wow you got it right!\n"
     ]
    }
   ],
   "source": [
    "# Simple program to find the vowels from the input sentence\n",
    "'''\n",
    "Sentences into words with separate indices is to use split() method. \n",
    "This method split a string into a list where each word is a list item. \n",
    "'''\n",
    "sentence = input(\"Type a sentence with more than 3 words : \\n\")\n",
    "words = sentence.split()\n",
    "if len(words) < 4:\n",
    "    print(\"You need to type more words!\")\n",
    "else:\n",
    "    print(\"Wow you got it right!\")"
   ]
  },
  {
   "cell_type": "code",
   "execution_count": 12,
   "metadata": {},
   "outputs": [
    {
     "name": "stdout",
     "output_type": "stream",
     "text": [
      "color\n",
      "fruit\n",
      "pet\n"
     ]
    }
   ],
   "source": [
    "# Dictionary in Python Example\n",
    "# You can see Key :Value pairs in a dictionary!\n",
    "#key is the keyword in python to access the key in k:v pairs\n",
    "# Is there a way to access values alone? explore \n",
    "# Search in the wide resources available in Internet!\n",
    "\n",
    "a_dict = {'color': 'blue', 'fruit': 'apple', 'pet': 'dog'}\n",
    "for key in a_dict:\n",
    "    print(key)\n",
    "    "
   ]
  },
  {
   "cell_type": "code",
   "execution_count": 13,
   "metadata": {},
   "outputs": [
    {
     "name": "stdout",
     "output_type": "stream",
     "text": [
      "14100.0\n"
     ]
    }
   ],
   "source": [
    "#You are given a dictionary of values  where you have JD : cost---key:value pairs \n",
    "#extract the values and identify the total income\n",
    "'''\n",
    "Iterate through dictionary keys: keys()\n",
    "Iterate through dictionary values: values()\n",
    "Iterate through dictionary key-value pairs: items()\n",
    "Explore more here in the link \n",
    "https://note.nkmk.me/en/python-dict-keys-values-items/\n",
    "'''\n",
    "incomes = {'Tutoring': 5600, 'Freelancing': 3500, 'Business Analyst': 5000}\n",
    "total_income = 0.00\n",
    "for value in incomes.values():\n",
    "    total_income += value  # Accumulate the values in total_income\n",
    "print(total_income)"
   ]
  },
  {
   "cell_type": "code",
   "execution_count": 9,
   "metadata": {},
   "outputs": [
    {
     "name": "stdout",
     "output_type": "stream",
     "text": [
      "Count of all characters in SiniRajPulari is : \n",
      " {'D': 1, 'j': 1, 'a': 1, 'n': 1, 'g': 1, 'o': 1}\n"
     ]
    }
   ],
   "source": [
    "# Python3 code to demonstrate\n",
    "# each occurrence frequency using\n",
    "# dict.get() -The get() method returns the value of the item with the specified key.\n",
    "\n",
    "'''\n",
    "get() Parameters\n",
    "get() method takes maximum of two parameters:\n",
    "key - key to be searched in the dictionary\n",
    "value (optional) - Value to be returned if the key is not found. The default value is None.\n",
    "\n",
    "'''\n",
    "# initializing string\n",
    "test_str = \"Django\"\n",
    "\n",
    "# using dict.get() to get count\n",
    "# of each element in string\n",
    "result = {}\n",
    "\n",
    "for keys in test_str:\n",
    "\tresult[keys] = result.get(keys, 0) + 1\n",
    "\n",
    "# printing result\n",
    "print (\"Count of all characters in SiniRajPulari is : \\n\",str(result))"
   ]
  },
  {
   "cell_type": "code",
   "execution_count": 14,
   "metadata": {},
   "outputs": [
    {
     "name": "stdout",
     "output_type": "stream",
     "text": [
      "Enter password length: 4\n",
      "Choose character set for password from these :\n",
      "\t\t1. Digits\n",
      "\t\t2. Letters\n",
      "\t\t3. Special characters\n",
      "\t\t4. Exit\n",
      "Pick a number 3\n",
      "Pick a number 1\n",
      "Pick a number 2\n",
      "Pick a number 1\n",
      "Pick a number 4\n",
      "The random password is WTgL\n"
     ]
    }
   ],
   "source": [
    "#Pasword generation\n",
    "#Checking whether password is established or not\n",
    "import string\n",
    "import random\n",
    "\n",
    "# Getting password length\n",
    "length = int(input(\"Enter password length: \"))\n",
    "\n",
    "print('''Choose character set for password from these :\n",
    "\t\t1. Digits\n",
    "\t\t2. Letters\n",
    "\t\t3. Special characters\n",
    "\t\t4. Exit''')\n",
    "\n",
    "characterList = \"\"\n",
    "\n",
    "# Getting character set for password\n",
    "while(True):\n",
    "\tchoice = int(input(\"Pick a number \"))\n",
    "\tif(choice == 1):\n",
    "\n",
    "\t\t# Adding letters to possible characters\n",
    "\t\tcharacterList += string.ascii_letters\n",
    "\telif(choice == 2):\n",
    "\n",
    "\t\t# Adding digits to possible characters\n",
    "\t\tcharacterList += string.digits\n",
    "\telif(choice == 3):\n",
    "\n",
    "\t\t# Adding special characters to possible\n",
    "\t\t# characters\n",
    "\t\tcharacterList += string.punctuation\n",
    "\telif(choice == 4):\n",
    "\t\tbreak\n",
    "\telse:\n",
    "\t\tprint(\"Please pick a valid option!\")\n",
    "\n",
    "password = []\n",
    "\n",
    "for i in range(length):\n",
    "\n",
    "\t# Picking a random character from our\n",
    "\t# character list\n",
    "\trandomchar = random.choice(characterList)\n",
    "\n",
    "\t# appending a random character to password\n",
    "\tpassword.append(randomchar)\n",
    "\n",
    "# printing password as a string\n",
    "print(\"The random password is \" + \"\".join(password))\n"
   ]
  },
  {
   "cell_type": "code",
   "execution_count": null,
   "metadata": {},
   "outputs": [
    {
     "name": "stdout",
     "output_type": "stream",
     "text": [
      "Enter your name: Sini\n",
      "\n",
      "Let's Play!!!\n",
      "Which version of Rock-Paper-Scissors?\n",
      "Enter 1 to play Rock-Paper-Scissors\n",
      "Enter 2 to play Rock-Paper-Scissors-Lizard-Spock\n",
      "Enter 3 to quit\n",
      "\n",
      "Enter your choice = 1\n",
      "--------------------------------------\n",
      "\t\tMenu\n",
      "--------------------------------------\n",
      "Enter \"help\" for instructions\n",
      "Enter \"Rock\",\"Paper\",\"Scissors\" to play\n",
      "Enter \"exit\" to quit\n",
      "--------------------------------------\n",
      "\n",
      "Enter your move : 0\n",
      "Wrong Input!!\n",
      "\n",
      "Instructions for Rock-Paper-Scissors : \n",
      "\n",
      "Rock crushes Scissors\n",
      "Scissors cuts Paper\n",
      "Paper covers Rock\n",
      "\n",
      "--------------------------------------\n",
      "\t\tMenu\n",
      "--------------------------------------\n",
      "Enter \"help\" for instructions\n",
      "Enter \"Rock\",\"Paper\",\"Scissors\" to play\n",
      "Enter \"exit\" to quit\n",
      "--------------------------------------\n",
      "\n",
      "Enter your move : rock\n",
      "Computer making a move....\n",
      "\n",
      "Computer chooses  SCISSORS\n",
      "Sini WINS!!!\n",
      "\n",
      "--------------------------------------\n",
      "\t\tMenu\n",
      "--------------------------------------\n",
      "Enter \"help\" for instructions\n",
      "Enter \"Rock\",\"Paper\",\"Scissors\" to play\n",
      "Enter \"exit\" to quit\n",
      "--------------------------------------\n",
      "\n"
     ]
    }
   ],
   "source": [
    "import random\n",
    "import os\n",
    "import time\n",
    "\n",
    "def clear():\n",
    "\tos.system(\"clear\")\n",
    "\n",
    "# Set of instructions for Rock-Paper-Scissors\n",
    "def rps_instructions():\n",
    "\n",
    "\tprint()\n",
    "\tprint(\"Instructions for Rock-Paper-Scissors : \")\n",
    "\tprint()\n",
    "\tprint(\"Rock crushes Scissors\")\n",
    "\tprint(\"Scissors cuts Paper\")\n",
    "\tprint(\"Paper covers Rock\")\n",
    "\tprint()\n",
    "\n",
    "# Set of instructions for Rock-Paper-Scissors-Lizard-Spock\n",
    "def rpsls_instructions():\n",
    "\n",
    "\tprint()\n",
    "\tprint(\"Instructions for Rock-Paper-Scissors-Lizard-Spock : \")\n",
    "\tprint()\n",
    "\tprint(\"Scissors cuts Paper\")\n",
    "\tprint(\"Paper covers Rock\")\n",
    "\tprint(\"Rock crushes Lizard\")\n",
    "\tprint(\"Lizard poisons Spock\")\n",
    "\tprint(\"Spock smashes Scissors\")\n",
    "\tprint(\"Scissors decapitates Lizard\")\n",
    "\tprint(\"Lizard eats Paper\")\n",
    "\tprint(\"Paper disproves Spock\")\n",
    "\tprint(\"Spock vaporizes Rock\")\n",
    "\tprint(\"Rock crushes Scissors\")\n",
    "\tprint()\n",
    "\n",
    "def rps():\n",
    "\n",
    "\tglobal rps_table\n",
    "\tglobal game_map\n",
    "\tglobal name\n",
    "\n",
    "\t# Game Loop for each game of Rock-Paper-Scissors\n",
    "\twhile True:\n",
    "\n",
    "\t\tprint(\"--------------------------------------\")\n",
    "\t\tprint(\"\\t\\tMenu\")\n",
    "\t\tprint(\"--------------------------------------\")\n",
    "\t\tprint(\"Enter \\\"help\\\" for instructions\")\n",
    "\t\tprint(\"Enter \\\"Rock\\\",\\\"Paper\\\",\\\"Scissors\\\" to play\")\n",
    "\t\tprint(\"Enter \\\"exit\\\" to quit\")\n",
    "\t\tprint(\"--------------------------------------\")\n",
    "\n",
    "\t\tprint()\n",
    "\n",
    "\t\t# Player Input\n",
    "\t\tinp = input(\"Enter your move : \")\n",
    "\n",
    "\t\tif inp.lower() == \"help\":\n",
    "\t\t\tclear()\n",
    "\t\t\trps_instructions()\n",
    "\t\t\tcontinue\n",
    "\t\telif inp.lower() == \"exit\":\n",
    "\t\t\tclear()\n",
    "\t\t\tbreak\n",
    "\t\telif inp.lower() == \"rock\":\n",
    "\t\t\tplayer_move = 0\n",
    "\t\telif inp.lower() == \"paper\":\n",
    "\t\t\tplayer_move = 1\n",
    "\t\telif inp.lower() == \"scissors\":\n",
    "\t\t\tplayer_move = 2\n",
    "\t\telse:\n",
    "\t\t\tclear()\n",
    "\t\t\tprint(\"Wrong Input!!\")\n",
    "\t\t\trps_instructions()\n",
    "\t\t\tcontinue\n",
    "\n",
    "\t\tprint(\"Computer making a move....\")\n",
    "\n",
    "\t\tprint()\n",
    "\t\ttime.sleep(2)\n",
    "\n",
    "\t\t# Get the computer move randomly\n",
    "\t\tcomp_move = random.randint(0, 2)\n",
    "\n",
    "\t\t# Print the computer move\n",
    "\t\tprint(\"Computer chooses \", game_map[comp_move].upper())\n",
    "\n",
    "\t\t# Find the winner of the match\n",
    "\t\twinner = rps_table[player_move][comp_move]\n",
    "\n",
    "\t\t# Declare the winner\n",
    "\t\tif winner == player_move:\n",
    "\t\t\tprint(name, \"WINS!!!\")\n",
    "\t\telif winner == comp_move:\n",
    "\t\t\tprint(\"COMPUTER WINS!!!\")\n",
    "\t\telse:\n",
    "\t\t\tprint(\"TIE GAME\")\n",
    "\n",
    "\t\tprint()\n",
    "\t\ttime.sleep(2)\n",
    "\t\tclear()\n",
    "\n",
    "def rpsls():\n",
    "\n",
    "\tglobal rpsls_table\n",
    "\tglobal game_map\n",
    "\tglobal name\n",
    "\n",
    "\t# Game Loop for each game of Rock-Paper-Scissors-Lizard-Spock\n",
    "\twhile True:\n",
    "\t\tprint(\"--------------------------------------\")\n",
    "\t\tprint(\"\\t\\tMenu\")\n",
    "\t\tprint(\"--------------------------------------\")\n",
    "\t\tprint(\"Enter \\\"help\\\" for instructions\")\n",
    "\t\tprint(\"Enter \\\"Rock\\\",\\\"Paper\\\",\\\"Scissors\\\",\\\"Lizard\\\",\\\"Spock\\\" to play\")\n",
    "\t\tprint(\"Enter \\\"exit\\\" to quit\")\n",
    "\t\tprint(\"--------------------------------------\")\n",
    "\n",
    "\t\tprint()\n",
    "\n",
    "\t\t# Player Input\n",
    "\t\tinp = input(\"Enter your move : \")\n",
    "\n",
    "\t\tif inp.lower() == \"help\":\n",
    "\t\t\tclear()\n",
    "\t\t\trpsls_instructions()\n",
    "\t\t\tcontinue\n",
    "\t\telif inp.lower() == \"exit\":\n",
    "\t\t\tclear()\n",
    "\t\t\tbreak\n",
    "\t\telif inp.lower() == \"rock\":\n",
    "\t\t\tplayer_move = 0\n",
    "\t\telif inp.lower() == \"paper\":\n",
    "\t\t\tplayer_move = 1\n",
    "\t\telif inp.lower() == \"scissors\":\n",
    "\t\t\tplayer_move = 2\n",
    "\t\telif inp.lower() == \"lizard\":\n",
    "\t\t\tplayer_move = 3\n",
    "\t\telif inp.lower() == \"spock\":\n",
    "\t\t\tplayer_move = 4\n",
    "\t\telse:\n",
    "\t\t\tclear()\n",
    "\t\t\tprint(\"Wrong Input!!\")\n",
    "\t\t\trps_instructions()\n",
    "\t\t\tcontinue\n",
    "\n",
    "\n",
    "\t\tprint(\"Computer making a move....\")\n",
    "\n",
    "\t\tcomp_move = random.randint(0, 4)\n",
    "\t\tprint()\n",
    "\t\ttime.sleep(2)\n",
    "\n",
    "\t\tprint(\"Computer chooses \", game_map[comp_move].upper())\n",
    "\n",
    "\t\twinner = rpsls_table[player_move][comp_move]\n",
    "\t\tprint()\n",
    "\t\tif winner == player_move:\n",
    "\t\t\tprint(name, \"WINS!!!\")\n",
    "\t\telif winner == comp_move:\n",
    "\t\t\tprint(\"COMPUTER WINS!!!\")\n",
    "\t\telse:\n",
    "\t\t\tprint(\"TIE GAME\")\n",
    "\t\tprint()\n",
    "\t\ttime.sleep(2)\n",
    "\t\tclear()\n",
    "\n",
    "# The main function\n",
    "if __name__ == '__main__':\n",
    "\n",
    "\t# The mapping between moves and numbers\n",
    "\tgame_map = {0:\"rock\", 1:\"paper\", 2:\"scissors\", 3:\"lizard\", 4:\"Spock\"}\n",
    "\n",
    "\t# Win-lose matrix for traditional game\n",
    "\trps_table = [[-1, 1, 0], [1, -1, 2], [0, 2, -1]]\n",
    "\n",
    "\t# Win-lose matrix for new version of the game\n",
    "\trpsls_table = [[-1, 1, 0, 0, 4],[1, -1, 2, 3, 1], [0, 2, -1, 2, 4], [0, 3, 2, -1, 3], [4, 1, 4, 3, -1]]\n",
    "\n",
    "\n",
    "\tname = input(\"Enter your name: \")\n",
    "\n",
    "\t# The GAME LOOP\n",
    "\twhile True:\n",
    "\n",
    "\t\t# The Game Menu\n",
    "\t\tprint()\n",
    "\t\tprint(\"Let's Play!!!\")\n",
    "\t\tprint(\"Which version of Rock-Paper-Scissors?\")\n",
    "\t\tprint(\"Enter 1 to play Rock-Paper-Scissors\")\n",
    "\t\tprint(\"Enter 2 to play Rock-Paper-Scissors-Lizard-Spock\")\n",
    "\t\tprint(\"Enter 3 to quit\")\n",
    "\t\tprint()\n",
    "\n",
    "\t\t# Try block to handle the player choice\n",
    "\t\ttry:\n",
    "\t\t\tchoice = int(input(\"Enter your choice = \"))\n",
    "\t\texcept ValueError:\n",
    "\t\t\tclear()\n",
    "\t\t\tprint(\"Wrong Choice\")\n",
    "\t\t\tcontinue\n",
    "\n",
    "\t\t# Play the traditional version of the game\n",
    "\t\tif choice == 1:\n",
    "\t\t\trps()\n",
    "\n",
    "\t\t# Play the new version of the game\n",
    "\t\telif choice == 2:\n",
    "\t\t\trpsls()\n",
    "\n",
    "\t\t# Quit the GAME LOOP\n",
    "\t\telif choice == 3:\n",
    "\t\t\tbreak\n",
    "\n",
    "\t\t# Other wrong input\n",
    "\t\telse:\n",
    "\t\t\tclear()\n",
    "\t\t\tprint(\"Wrong choice. Read instructions carefully.\")\n"
   ]
  },
  {
   "cell_type": "code",
   "execution_count": null,
   "metadata": {},
   "outputs": [],
   "source": []
  }
 ],
 "metadata": {
  "kernelspec": {
   "display_name": "Python 3",
   "language": "python",
   "name": "python3"
  },
  "language_info": {
   "codemirror_mode": {
    "name": "ipython",
    "version": 3
   },
   "file_extension": ".py",
   "mimetype": "text/x-python",
   "name": "python",
   "nbconvert_exporter": "python",
   "pygments_lexer": "ipython3",
   "version": "3.7.6"
  }
 },
 "nbformat": 4,
 "nbformat_minor": 4
}
