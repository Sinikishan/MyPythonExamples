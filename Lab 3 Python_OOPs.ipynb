{
 "cells": [
  {
   "cell_type": "code",
   "execution_count": 52,
   "metadata": {},
   "outputs": [],
   "source": [
    " import sys"
   ]
  },
  {
   "cell_type": "code",
   "execution_count": 2,
   "metadata": {},
   "outputs": [
    {
     "data": {
      "text/plain": [
       "'a Python scope determines where in your program a name is visible.\\nPython scopes are implemented as dictionaries that map names to objects. \\nThese dictionaries are commonly called namespaces.\\nThese are the concrete mechanisms that Python uses to store names. \\nThey’re stored in a special attribute called .__dict__.\\n'"
      ]
     },
     "execution_count": 2,
     "metadata": {},
     "output_type": "execute_result"
    }
   ],
   "source": [
    "'''a Python scope determines where in your program a name is visible.\n",
    "Python scopes are implemented as dictionaries that map names to objects. \n",
    "These dictionaries are commonly called namespaces.\n",
    "These are the concrete mechanisms that Python uses to store names. \n",
    "They’re stored in a special attribute called .__dict__.\n",
    "'''"
   ]
  },
  {
   "cell_type": "code",
   "execution_count": 3,
   "metadata": {},
   "outputs": [
    {
     "data": {
      "text/plain": [
       "dict_keys(['__name__', '__doc__', '__package__', '__loader__', '__spec__', 'breakpointhook', 'callstats', '_clear_type_cache', '_current_frames', 'displayhook', 'exc_info', 'excepthook', 'exit', 'getdefaultencoding', 'getallocatedblocks', 'getfilesystemencoding', 'getfilesystemencodeerrors', 'getrefcount', 'getrecursionlimit', 'getsizeof', '_getframe', 'getwindowsversion', '_enablelegacywindowsfsencoding', 'intern', 'is_finalizing', 'setcheckinterval', 'getcheckinterval', 'setswitchinterval', 'getswitchinterval', 'setprofile', 'getprofile', 'setrecursionlimit', 'settrace', 'gettrace', 'call_tracing', '_debugmallocstats', 'set_coroutine_origin_tracking_depth', 'get_coroutine_origin_tracking_depth', 'set_coroutine_wrapper', 'get_coroutine_wrapper', 'set_asyncgen_hooks', 'get_asyncgen_hooks', '__displayhook__', '__excepthook__', '__breakpointhook__', 'version', 'hexversion', '_git', '_framework', 'api_version', 'copyright', 'platform', 'maxsize', 'float_info', 'int_info', 'hash_info', 'maxunicode', 'builtin_module_names', 'byteorder', 'dllhandle', 'winver', 'version_info', 'implementation', 'flags', 'float_repr_style', 'thread_info', 'modules', 'stderr', '__stderr__', 'meta_path', 'path_importer_cache', 'path_hooks', 'path', 'executable', 'prefix', 'base_prefix', 'exec_prefix', 'base_exec_prefix', '_base_executable', 'argv', 'warnoptions', '_xoptions', 'dont_write_bytecode', '__stdin__', 'stdin', '__stdout__', 'stdout', '_home', '__interactivehook__', 'ps1', 'ps2', 'ps3'])"
      ]
     },
     "execution_count": 3,
     "metadata": {},
     "output_type": "execute_result"
    }
   ],
   "source": [
    "sys.__dict__.keys()"
   ]
  },
  {
   "cell_type": "code",
   "execution_count": 4,
   "metadata": {},
   "outputs": [
    {
     "name": "stdout",
     "output_type": "stream",
     "text": [
      "30\n"
     ]
    }
   ],
   "source": [
    "#Scope 1\n",
    "\n",
    "x=30  #Global\n",
    "def my_func():\n",
    "\tx=40  #local\n",
    "\treturn x\n",
    "print(x)\n"
   ]
  },
  {
   "cell_type": "code",
   "execution_count": 54,
   "metadata": {},
   "outputs": [
    {
     "name": "stdout",
     "output_type": "stream",
     "text": [
      "30\n"
     ]
    }
   ],
   "source": [
    "#Scope 2\n",
    "x=30\n",
    "def my_func():\n",
    "\tx=40\n",
    "\treturn x\n",
    "#print(my_func())\n",
    "print(x)"
   ]
  },
  {
   "cell_type": "code",
   "execution_count": 55,
   "metadata": {},
   "outputs": [
    {
     "name": "stdout",
     "output_type": "stream",
     "text": [
      "40\n"
     ]
    }
   ],
   "source": [
    "#Scope 3\n",
    "x=30 #Global\n",
    "def my_func():\n",
    "\tx=40 #local\n",
    "\treturn x\n",
    "x = my_func() # x value updated with the return value of my_func()\n",
    "print(x)\n"
   ]
  },
  {
   "cell_type": "code",
   "execution_count": 59,
   "metadata": {},
   "outputs": [],
   "source": [
    "'''\n",
    "Create a class named MyClass, with a property named x:\n",
    "\n",
    "'''\n",
    "\n",
    "class MyClass:\n",
    "  x = 88"
   ]
  },
  {
   "cell_type": "code",
   "execution_count": 60,
   "metadata": {},
   "outputs": [
    {
     "name": "stdout",
     "output_type": "stream",
     "text": [
      "88\n"
     ]
    }
   ],
   "source": [
    "'''\n",
    "Create an object named p1, and print the value of x: '''\n",
    "\n",
    "p1 = MyClass()\n",
    "print(p1.x)"
   ]
  },
  {
   "cell_type": "code",
   "execution_count": 62,
   "metadata": {},
   "outputs": [
    {
     "ename": "SyntaxError",
     "evalue": "unexpected EOF while parsing (<ipython-input-62-eff55b8b51df>, line 2)",
     "output_type": "error",
     "traceback": [
      "\u001b[1;36m  File \u001b[1;32m\"<ipython-input-62-eff55b8b51df>\"\u001b[1;36m, line \u001b[1;32m2\u001b[0m\n\u001b[1;33m    \u001b[0m\n\u001b[1;37m    ^\u001b[0m\n\u001b[1;31mSyntaxError\u001b[0m\u001b[1;31m:\u001b[0m unexpected EOF while parsing\n"
     ]
    }
   ],
   "source": [
    "class Animal:\n",
    "    "
   ]
  },
  {
   "cell_type": "code",
   "execution_count": 63,
   "metadata": {},
   "outputs": [],
   "source": [
    "class Animal:\n",
    "\tpass\n",
    "#this is an empty class\n",
    "\n",
    "#class definitions cannot be empty, but if you for some reason have a class definition with no content, \n",
    "#put in the pass statement to avoid getting an error.\n",
    "\n"
   ]
  },
  {
   "cell_type": "code",
   "execution_count": 64,
   "metadata": {},
   "outputs": [
    {
     "name": "stdout",
     "output_type": "stream",
     "text": [
      "Hello my name is Sini and I am 60\n"
     ]
    }
   ],
   "source": [
    "'''\n",
    "The self parameter is a reference to the current instance of the class,\n",
    "and is used to access variables that belongs to the class.\n",
    "\n",
    "It does not have to be named self , you can call it whatever you like, \n",
    "but it has to be the first parameter of any function in the class:\n",
    "\n",
    "'''\n",
    "\n",
    "class Person:\n",
    "  def __init__(self, name, age):\n",
    "    self.name = name\n",
    "    self.age = age\n",
    "\n",
    "  def myfunc(self):\n",
    "    print(\"Hello my name is \" + self.name + \" and I am\",self.age)\n",
    "\n",
    "p1 = Person(\"Sini\", 60)\n",
    "p1.myfunc()"
   ]
  },
  {
   "cell_type": "code",
   "execution_count": 65,
   "metadata": {},
   "outputs": [
    {
     "name": "stdout",
     "output_type": "stream",
     "text": [
      "Hello my name is Sini and I am 60\n"
     ]
    }
   ],
   "source": [
    "'''\n",
    "It does not have to be named self , you can call it whatever you like, \n",
    "but it has to be the first parameter of any function in the class:\n",
    "\n",
    "However , it is highly recommended to use \"SELF\"\n",
    "\n",
    "'''\n",
    "\n",
    "class Person:\n",
    "  def __init__(trialself, name, age):\n",
    "    trialself.name = name\n",
    "    trialself.age = age\n",
    "\n",
    "  def myfunc(trialself):\n",
    "    print(\"Hello my name is \" + trialself.name + \" and I am\",trialself.age)\n",
    "\n",
    "p1 = Person(\"Sini\", 60)\n",
    "p1.myfunc()"
   ]
  },
  {
   "cell_type": "code",
   "execution_count": 24,
   "metadata": {},
   "outputs": [
    {
     "name": "stdout",
     "output_type": "stream",
     "text": [
      "John\n",
      "36\n"
     ]
    }
   ],
   "source": [
    "'''\n",
    "Special method:\n",
    "\n",
    "All classes have a function called __init__(), which is always executed when the class is being initiated.\n",
    "The __init__() function is called automatically every time the class is being used to create a new object.\n",
    "\n",
    "\n",
    "Create a class named Person, use the __init__() function to assign values for name and age:\n",
    "\n",
    "'''\n",
    "\n",
    "class Person:\n",
    "  def __init__(self, name, age):\n",
    "    self.name = name\n",
    "    self.age = age\n",
    "\n",
    "p1 = Person(\"John\", 36)\n",
    "\n",
    "print(p1.name)\n",
    "print(p1.age)"
   ]
  },
  {
   "cell_type": "code",
   "execution_count": 66,
   "metadata": {},
   "outputs": [
    {
     "name": "stdout",
     "output_type": "stream",
     "text": [
      "<__main__.Person object at 0x0000023F2D7925C8>\n"
     ]
    }
   ],
   "source": [
    "'''\n",
    "Special Methods\n",
    "\n",
    "+++++++++++++++++++++++++++\n",
    "\n",
    "\n",
    "The __str__() function controls what should be returned when the class object is represented as a string.\n",
    "\n",
    "If the __str__() function is not set, the string representation of the object is returned\n",
    "\n",
    "'''\n",
    "\n",
    "#The string representation of an object WITHOUT the __str__() function:\n",
    "\n",
    "class Person:\n",
    "  def __init__(self, name, age):\n",
    "    self.name = name\n",
    "    self.age = age\n",
    "\n",
    "p1 = Person(\"John\", 36)\n",
    "\n",
    "print(p1)"
   ]
  },
  {
   "cell_type": "code",
   "execution_count": 75,
   "metadata": {},
   "outputs": [
    {
     "name": "stdout",
     "output_type": "stream",
     "text": [
      "John(36)\n"
     ]
    }
   ],
   "source": [
    "#The string representation of an object WITH the __str__() function:\n",
    "\n",
    "class Person:\n",
    "  def __init__(self, name, age):\n",
    "    self.name = name\n",
    "    self.age = age\n",
    "\n",
    "  def __str__(self):\n",
    "    return f\"{self.name}({self.age})\"\n",
    "\n",
    "p1 = Person(\"John\", 36)\n",
    "\n",
    "print(p1)"
   ]
  },
  {
   "cell_type": "code",
   "execution_count": 76,
   "metadata": {},
   "outputs": [],
   "source": [
    "del p1"
   ]
  },
  {
   "cell_type": "code",
   "execution_count": 27,
   "metadata": {},
   "outputs": [
    {
     "name": "stdout",
     "output_type": "stream",
     "text": [
      "John(36)\n"
     ]
    }
   ],
   "source": [
    "class Person:\n",
    "  def __init__(self, name, age):\n",
    "    self.name = name\n",
    "    self.age = age\n",
    "\n",
    "  def __str__(self):\n",
    "    return f\"{self.name}({self.age})\"\n",
    "\n",
    "p1 = Person(\"John\", 36)\n",
    "\n",
    "print(p1)"
   ]
  },
  {
   "cell_type": "code",
   "execution_count": 77,
   "metadata": {},
   "outputs": [
    {
     "ename": "NameError",
     "evalue": "name 'p1' is not defined",
     "output_type": "error",
     "traceback": [
      "\u001b[1;31m---------------------------------------------------------------------------\u001b[0m",
      "\u001b[1;31mNameError\u001b[0m                                 Traceback (most recent call last)",
      "\u001b[1;32m<ipython-input-77-11aed6544815>\u001b[0m in \u001b[0;36m<module>\u001b[1;34m\u001b[0m\n\u001b[1;32m----> 1\u001b[1;33m \u001b[1;32mdel\u001b[0m \u001b[0mp1\u001b[0m\u001b[1;33m.\u001b[0m\u001b[0mage\u001b[0m\u001b[1;33m\u001b[0m\u001b[1;33m\u001b[0m\u001b[0m\n\u001b[0m",
      "\u001b[1;31mNameError\u001b[0m: name 'p1' is not defined"
     ]
    }
   ],
   "source": [
    "del p1.age"
   ]
  },
  {
   "cell_type": "code",
   "execution_count": 78,
   "metadata": {},
   "outputs": [
    {
     "ename": "NameError",
     "evalue": "name 'p1' is not defined",
     "output_type": "error",
     "traceback": [
      "\u001b[1;31m---------------------------------------------------------------------------\u001b[0m",
      "\u001b[1;31mNameError\u001b[0m                                 Traceback (most recent call last)",
      "\u001b[1;32m<ipython-input-78-9506c9e80e91>\u001b[0m in \u001b[0;36m<module>\u001b[1;34m\u001b[0m\n\u001b[1;32m----> 1\u001b[1;33m \u001b[0mprint\u001b[0m\u001b[1;33m(\u001b[0m\u001b[0mp1\u001b[0m\u001b[1;33m.\u001b[0m\u001b[0mage\u001b[0m\u001b[1;33m)\u001b[0m\u001b[1;33m\u001b[0m\u001b[1;33m\u001b[0m\u001b[0m\n\u001b[0m",
      "\u001b[1;31mNameError\u001b[0m: name 'p1' is not defined"
     ]
    }
   ],
   "source": [
    "print(p1.age)"
   ]
  },
  {
   "cell_type": "code",
   "execution_count": 79,
   "metadata": {},
   "outputs": [
    {
     "ename": "NameError",
     "evalue": "name 'p1' is not defined",
     "output_type": "error",
     "traceback": [
      "\u001b[1;31m---------------------------------------------------------------------------\u001b[0m",
      "\u001b[1;31mNameError\u001b[0m                                 Traceback (most recent call last)",
      "\u001b[1;32m<ipython-input-79-9e6ce7f8ce2f>\u001b[0m in \u001b[0;36m<module>\u001b[1;34m\u001b[0m\n\u001b[1;32m----> 1\u001b[1;33m \u001b[1;32mdel\u001b[0m \u001b[0mp1\u001b[0m\u001b[1;33m\u001b[0m\u001b[1;33m\u001b[0m\u001b[0m\n\u001b[0m",
      "\u001b[1;31mNameError\u001b[0m: name 'p1' is not defined"
     ]
    }
   ],
   "source": [
    "del p1"
   ]
  },
  {
   "cell_type": "code",
   "execution_count": 31,
   "metadata": {},
   "outputs": [
    {
     "ename": "NameError",
     "evalue": "name 'p1' is not defined",
     "output_type": "error",
     "traceback": [
      "\u001b[1;31m---------------------------------------------------------------------------\u001b[0m",
      "\u001b[1;31mNameError\u001b[0m                                 Traceback (most recent call last)",
      "\u001b[1;32m<ipython-input-31-71a0f0e933fe>\u001b[0m in \u001b[0;36m<module>\u001b[1;34m\u001b[0m\n\u001b[1;32m----> 1\u001b[1;33m \u001b[0mprint\u001b[0m\u001b[1;33m(\u001b[0m\u001b[0mp1\u001b[0m\u001b[1;33m)\u001b[0m\u001b[1;33m\u001b[0m\u001b[1;33m\u001b[0m\u001b[0m\n\u001b[0m",
      "\u001b[1;31mNameError\u001b[0m: name 'p1' is not defined"
     ]
    }
   ],
   "source": [
    "print(p1)"
   ]
  },
  {
   "cell_type": "code",
   "execution_count": 81,
   "metadata": {},
   "outputs": [
    {
     "name": "stdout",
     "output_type": "stream",
     "text": [
      "Person(\"John\",\"Doe\",25)\n"
     ]
    }
   ],
   "source": [
    "'''\n",
    "__repr__  method returns the string representation of an object.\n",
    "\n",
    "By default, the output contains the memory address of the person object. \n",
    "To customize the string representation of the object, you can implement the __repr__ method as given below in comments\n",
    "\n",
    "\n",
    "'''\n",
    "\n",
    "\n",
    "class Person:\n",
    "    def __init__(self, first_name, last_name, age):\n",
    "        self.first_name = first_name\n",
    "        self.last_name = last_name\n",
    "        self.age = age\n",
    "\n",
    "    def __repr__(self):\n",
    "        return f'Person(\"{self.first_name}\",\"{self.last_name}\",{self.age})'\n",
    "      \n",
    "    \n",
    "person = Person(\"John\", \"Doe\", 25)\n",
    "print(repr(person))"
   ]
  },
  {
   "cell_type": "code",
   "execution_count": 82,
   "metadata": {},
   "outputs": [
    {
     "data": {
      "text/plain": [
       "'math'"
      ]
     },
     "execution_count": 82,
     "metadata": {},
     "output_type": "execute_result"
    }
   ],
   "source": [
    "'''\n",
    "__dict__ \n",
    "\n",
    "__ name__  The __name__ attribute returns the name of the module.\n",
    "By default, the name of the file (excluding the extension .py) is the value of __name__attribute.\n",
    "'''\n",
    "import math\n",
    "math.__name__\n"
   ]
  },
  {
   "cell_type": "code",
   "execution_count": 83,
   "metadata": {},
   "outputs": [
    {
     "data": {
      "text/plain": [
       "{'__name__': 'math',\n",
       " '__doc__': 'This module provides access to the mathematical functions\\ndefined by the C standard.',\n",
       " '__package__': '',\n",
       " '__loader__': _frozen_importlib.BuiltinImporter,\n",
       " '__spec__': ModuleSpec(name='math', loader=<class '_frozen_importlib.BuiltinImporter'>, origin='built-in'),\n",
       " 'acos': <function math.acos(x, /)>,\n",
       " 'acosh': <function math.acosh(x, /)>,\n",
       " 'asin': <function math.asin(x, /)>,\n",
       " 'asinh': <function math.asinh(x, /)>,\n",
       " 'atan': <function math.atan(x, /)>,\n",
       " 'atan2': <function math.atan2(y, x, /)>,\n",
       " 'atanh': <function math.atanh(x, /)>,\n",
       " 'ceil': <function math.ceil(x, /)>,\n",
       " 'copysign': <function math.copysign(x, y, /)>,\n",
       " 'cos': <function math.cos(x, /)>,\n",
       " 'cosh': <function math.cosh(x, /)>,\n",
       " 'degrees': <function math.degrees(x, /)>,\n",
       " 'erf': <function math.erf(x, /)>,\n",
       " 'erfc': <function math.erfc(x, /)>,\n",
       " 'exp': <function math.exp(x, /)>,\n",
       " 'expm1': <function math.expm1(x, /)>,\n",
       " 'fabs': <function math.fabs(x, /)>,\n",
       " 'factorial': <function math.factorial(x, /)>,\n",
       " 'floor': <function math.floor(x, /)>,\n",
       " 'fmod': <function math.fmod(x, y, /)>,\n",
       " 'frexp': <function math.frexp(x, /)>,\n",
       " 'fsum': <function math.fsum(seq, /)>,\n",
       " 'gamma': <function math.gamma(x, /)>,\n",
       " 'gcd': <function math.gcd(x, y, /)>,\n",
       " 'hypot': <function math.hypot(x, y, /)>,\n",
       " 'isclose': <function math.isclose(a, b, *, rel_tol=1e-09, abs_tol=0.0)>,\n",
       " 'isfinite': <function math.isfinite(x, /)>,\n",
       " 'isinf': <function math.isinf(x, /)>,\n",
       " 'isnan': <function math.isnan(x, /)>,\n",
       " 'ldexp': <function math.ldexp(x, i, /)>,\n",
       " 'lgamma': <function math.lgamma(x, /)>,\n",
       " 'log': <function math.log>,\n",
       " 'log1p': <function math.log1p(x, /)>,\n",
       " 'log10': <function math.log10(x, /)>,\n",
       " 'log2': <function math.log2(x, /)>,\n",
       " 'modf': <function math.modf(x, /)>,\n",
       " 'pow': <function math.pow(x, y, /)>,\n",
       " 'radians': <function math.radians(x, /)>,\n",
       " 'remainder': <function math.remainder(x, y, /)>,\n",
       " 'sin': <function math.sin(x, /)>,\n",
       " 'sinh': <function math.sinh(x, /)>,\n",
       " 'sqrt': <function math.sqrt(x, /)>,\n",
       " 'tan': <function math.tan(x, /)>,\n",
       " 'tanh': <function math.tanh(x, /)>,\n",
       " 'trunc': <function math.trunc(x, /)>,\n",
       " 'pi': 3.141592653589793,\n",
       " 'e': 2.718281828459045,\n",
       " 'tau': 6.283185307179586,\n",
       " 'inf': inf,\n",
       " 'nan': nan}"
      ]
     },
     "execution_count": 83,
     "metadata": {},
     "output_type": "execute_result"
    }
   ],
   "source": [
    "'''\n",
    "__dict__  all the functions in the module are displayed\n",
    "'''\n",
    "math.__dict__"
   ]
  },
  {
   "cell_type": "code",
   "execution_count": 36,
   "metadata": {},
   "outputs": [
    {
     "data": {
      "text/plain": [
       "'\\nWhat is __ bases __ in Python?\\nPython provides a __bases__ attribute on each class that can be used to obtain a list of classes the given class inherits.\\n\\nThe __bases__ property of the class contains a list of all the base classes that the given class inherits.\\n\\nCheck out and explore!\\n\\n'"
      ]
     },
     "execution_count": 36,
     "metadata": {},
     "output_type": "execute_result"
    }
   ],
   "source": [
    "'''\n",
    "What is __ bases __ in Python?\n",
    "Python provides a __bases__ attribute on each class that can be used to obtain a list of classes the given class inherits.\n",
    "\n",
    "The __bases__ property of the class contains a list of all the base classes that the given class inherits.\n",
    "\n",
    "Check out and explore!\n",
    "\n",
    "'''\n"
   ]
  },
  {
   "cell_type": "code",
   "execution_count": 86,
   "metadata": {},
   "outputs": [
    {
     "name": "stdout",
     "output_type": "stream",
     "text": [
      "Ahmed\n",
      "99\n"
     ]
    }
   ],
   "source": [
    "'''\n",
    "\n",
    "Functions to Manage Attributes\n",
    "\n",
    "getattr() Syntax:\n",
    "\n",
    "The syntax of getattr() method is:\n",
    "\n",
    "getattr(object, name of attribute)\n",
    "\n",
    "\n",
    "The above syntax is equivalent to:\n",
    "\n",
    "object.name\n",
    "\n",
    "'''\n",
    "\n",
    "class Student:\n",
    "  marks = 99\n",
    "  name = 'Ahmed'\n",
    "\n",
    "person = Student()#class instantiation- creating an instance for the class Student\n",
    "#print(person.marks, person.name)\n",
    "name1 = getattr(person, 'name')\n",
    "print(name)\n",
    "\n",
    "marks1 = getattr(person, 'marks')\n",
    "print(marks)"
   ]
  },
  {
   "cell_type": "code",
   "execution_count": 96,
   "metadata": {},
   "outputs": [
    {
     "name": "stdout",
     "output_type": "stream",
     "text": [
      "The sex is: Male\n"
     ]
    },
    {
     "ename": "AttributeError",
     "evalue": "'Person' object has no attribute 'sex'",
     "output_type": "error",
     "traceback": [
      "\u001b[1;31m---------------------------------------------------------------------------\u001b[0m",
      "\u001b[1;31mAttributeError\u001b[0m                            Traceback (most recent call last)",
      "\u001b[1;32m<ipython-input-96-1260c43a78f2>\u001b[0m in \u001b[0;36m<module>\u001b[1;34m\u001b[0m\n\u001b[0;32m     14\u001b[0m \u001b[1;31m#print(person.sex)\u001b[0m\u001b[1;33m\u001b[0m\u001b[1;33m\u001b[0m\u001b[1;33m\u001b[0m\u001b[0m\n\u001b[0;32m     15\u001b[0m \u001b[1;31m#when no default value is provided\u001b[0m\u001b[1;33m\u001b[0m\u001b[1;33m\u001b[0m\u001b[1;33m\u001b[0m\u001b[0m\n\u001b[1;32m---> 16\u001b[1;33m \u001b[0mprint\u001b[0m\u001b[1;33m(\u001b[0m\u001b[1;34m'The sex is:'\u001b[0m\u001b[1;33m,\u001b[0m \u001b[0mgetattr\u001b[0m\u001b[1;33m(\u001b[0m\u001b[0mperson\u001b[0m\u001b[1;33m,\u001b[0m \u001b[1;34m'sex'\u001b[0m\u001b[1;33m)\u001b[0m\u001b[1;33m)\u001b[0m\u001b[1;33m\u001b[0m\u001b[1;33m\u001b[0m\u001b[0m\n\u001b[0m",
      "\u001b[1;31mAttributeError\u001b[0m: 'Person' object has no attribute 'sex'"
     ]
    }
   ],
   "source": [
    "'''\n",
    "U can provide default value to a getattribute\n",
    "\n",
    "'''\n",
    "\n",
    "class Person:\n",
    "    age = 23\n",
    "    name = \"Adam\"\n",
    "\n",
    "person = Person()\n",
    "\n",
    "# when default value is provided\n",
    "print('The sex is:', getattr(person, 'sex', 'Male'))\n",
    "#print(person.sex)\n",
    "#when no default value is provided\n",
    "print('The sex is:', getattr(person, 'sex'))"
   ]
  },
  {
   "cell_type": "code",
   "execution_count": 94,
   "metadata": {},
   "outputs": [
    {
     "name": "stdout",
     "output_type": "stream",
     "text": [
      "<class '__main__.Car'>\n",
      "Toyota\n",
      "1\n"
     ]
    }
   ],
   "source": [
    "'''\n",
    "Activity - Try by urself\n",
    "\n",
    "'''\n",
    "class Car():\n",
    "\ttotal_cars = 0\n",
    "\tdef __init__(self, make, year):\n",
    "\t\tself.make = make\n",
    "\t\tself.year= year\n",
    "\t\tCar.total_cars += 1\n",
    "\n",
    "my_car = Car(make = \"Toyota\", year=1992)\n",
    "print(type(my_car))\n",
    "print(my_car.make)\n",
    "print(Car.total_cars)\n"
   ]
  },
  {
   "cell_type": "code",
   "execution_count": 41,
   "metadata": {},
   "outputs": [
    {
     "name": "stdout",
     "output_type": "stream",
     "text": [
      "dog barking\n",
      "Animal Speaking\n"
     ]
    }
   ],
   "source": [
    "'''\n",
    "=================\n",
    "INHERITANCE\n",
    "+++++++++++++++++++++\n",
    "'''\n",
    "\n",
    "class Animal:  \n",
    "    def speak(self):  \n",
    "        print(\"Animal Speaking\")  \n",
    "#child class Dog inherits the base class Animal  \n",
    "class Dog(Animal):  \n",
    "    def bark(self):  \n",
    "        print(\"dog barking\")  \n",
    "d = Dog()  #creating an obj for child class Dog\n",
    "d.bark()  \n",
    "d.speak()  "
   ]
  },
  {
   "cell_type": "code",
   "execution_count": 97,
   "metadata": {},
   "outputs": [
    {
     "name": "stdout",
     "output_type": "stream",
     "text": [
      "Eating bread...\n",
      "dog barking\n",
      "Animal Speaking\n"
     ]
    }
   ],
   "source": [
    "'''\n",
    "Multi-Level inheritance\n",
    "\n",
    "class class1:  \n",
    "    <class-suite>   \n",
    "class class2(class1):  \n",
    "    <class suite>  \n",
    "class class3(class2):  \n",
    "    <class suite>  \n",
    "    \n",
    "\n",
    "'''\n",
    "#Parent class\n",
    "class Animal:  \n",
    "    def speak(self):  \n",
    "        print(\"Animal Speaking\")  \n",
    "        \n",
    "#The child class Dog inherits the base class Animal  \n",
    "class Dog(Animal):  \n",
    "    def bark(self):  \n",
    "        print(\"dog barking\")  \n",
    "        \n",
    "#The child class Dogchild inherits another child class Dog  \n",
    "class DogChild(Dog):  \n",
    "    def eat(self):  \n",
    "        print(\"Eating bread...\")  \n",
    "        \n",
    "d = DogChild()  \n",
    "d.eat()\n",
    "d.bark()  \n",
    "d.speak()  \n",
    "  \n",
    "\n"
   ]
  },
  {
   "cell_type": "code",
   "execution_count": 98,
   "metadata": {},
   "outputs": [
    {
     "name": "stdout",
     "output_type": "stream",
     "text": [
      "0.5\n",
      "30\n",
      "200\n"
     ]
    }
   ],
   "source": [
    "'''\n",
    "=======================\n",
    "Multiple inheritance\n",
    "========================\n",
    "\n",
    "class Base1:  \n",
    "    <class-suite>  \n",
    "  \n",
    "class Base2:  \n",
    "    <class-suite>  \n",
    " \n",
    "  \n",
    "class Derived(Base1, Base2):  \n",
    "    <class-suite>  \n",
    "\n",
    "'''\n",
    "\n",
    "class Calculation1:  \n",
    "    def Summation(self,a,b):  \n",
    "        return a+b;  \n",
    "    \n",
    "class Calculation2:  \n",
    "    def Multiplication(self,a,b):  \n",
    "        return a*b;  \n",
    "    \n",
    "class Derived(Calculation1,Calculation2):  \n",
    "    def Divide(self,a,b):  \n",
    "        return a/b;  \n",
    "    \n",
    "d = Derived()  \n",
    " \n",
    "print(d.Divide(10,20)) \n",
    "print(d.Summation(10,20))  \n",
    "print(d.Multiplication(10,20)) "
   ]
  },
  {
   "cell_type": "code",
   "execution_count": 99,
   "metadata": {},
   "outputs": [
    {
     "name": "stdout",
     "output_type": "stream",
     "text": [
      "Barking\n"
     ]
    }
   ],
   "source": [
    "'''\n",
    "====================\n",
    "METHOD OVERRIDING\n",
    "=====================\n",
    "\n",
    "'''\n",
    "\n",
    "class Animal:  \n",
    "    def speak(self):  \n",
    "        print(\"speaking\")  \n",
    "class Dog(Animal):  \n",
    "    def speak(self):  \n",
    "        print(\"Barking\")  \n",
    "d = Dog()  \n",
    "d.speak()  "
   ]
  },
  {
   "cell_type": "code",
   "execution_count": 106,
   "metadata": {},
   "outputs": [
    {
     "name": "stdout",
     "output_type": "stream",
     "text": [
      "Barking\n",
      "speaking\n"
     ]
    }
   ],
   "source": [
    "'''\n",
    "====================\n",
    "METHOD OVERRIDING\n",
    "To keep the inheritance of the parent's __init__() function, add a call to the parent's __init__() function.\n",
    "\n",
    "=====================\n",
    "'''\n",
    "class Animal:  \n",
    "    def speak(self):  \n",
    "        print(\"speaking\")  \n",
    "class Dog(Animal):  \n",
    "    def __init__(self):  \n",
    "        print(\"Barking\")  \n",
    "d = Dog()  \n",
    "d.speak()"
   ]
  },
  {
   "cell_type": "code",
   "execution_count": 107,
   "metadata": {
    "scrolled": true
   },
   "outputs": [
    {
     "name": "stdout",
     "output_type": "stream",
     "text": [
      "Barking\n",
      "speaking\n"
     ]
    }
   ],
   "source": [
    "'''\n",
    "====================\n",
    "METHOD OVERRIDING\n",
    "Use Super()\n",
    "=====================\n",
    "'''\n",
    "class Animal:  \n",
    "    def speak(self):  \n",
    "        print(\"speaking\")  \n",
    "class Dog(Animal):  \n",
    "    def __init__(self):  \n",
    "        print(\"Barking\") \n",
    "        super().__init__()\n",
    "d = Dog()  \n",
    "d.speak()"
   ]
  },
  {
   "cell_type": "code",
   "execution_count": 108,
   "metadata": {},
   "outputs": [
    {
     "name": "stdout",
     "output_type": "stream",
     "text": [
      "John Doe\n",
      "Sini Raj\n"
     ]
    }
   ],
   "source": [
    "'''\n",
    "Inheritance:\n",
    "\n",
    "Create a class named Person, with firstname and lastname properties, and a printname method:\n",
    "\n",
    "\n",
    "'''\n",
    "class Person:\n",
    "  def __init__(self, fname, lname):\n",
    "    self.firstname = fname\n",
    "    self.lastname = lname\n",
    "\n",
    "  def printname(self):\n",
    "    print(self.firstname, self.lastname)\n",
    "\n",
    "#Use the Person class to create an object, and then execute the printname method:\n",
    "\n",
    "x = Person(\"John\", \"Doe\")\n",
    "x.printname()\n",
    "\n",
    "#Create a class named Student, which will inherit the properties and methods from the Person class:\n",
    "\n",
    "class Student(Person):\n",
    "      pass\n",
    "\n",
    "#Use the Student class to create an object, and then execute the printname method:\n",
    "\n",
    "x = Student(\"Sini\", \"Raj\")\n",
    "x.printname()"
   ]
  },
  {
   "cell_type": "code",
   "execution_count": 46,
   "metadata": {},
   "outputs": [],
   "source": [
    "\n",
    "\n",
    "'''So far we have created a child class that inherits the properties and methods from its parent.\n",
    "\n",
    "We want to add the __init__() function to the child class (instead of the pass keyword).\n",
    "\n",
    "Note: The __init__() function is called automatically every time the class is being used to create a new object.\n",
    "\n",
    "Example\n",
    "Add the __init__() function to the Student class:\n",
    "'''\n",
    "\n",
    "\n",
    "\n",
    "class Student(Person):\n",
    "  def __init__(self, fname, lname):\n",
    "    #add properties etc.\n",
    "    '''\n",
    "    When you add the __init__() function, the child class will no longer inherit the parent's __init__() function.\n",
    "\n",
    "Note: The child's __init__() function overrides the inheritance of the parent's __init__() function.\n",
    "\n",
    "To keep the inheritance of the parent's __init__() function, add a call to the parent's __init__() function:\n",
    "    '''\n",
    "    \n",
    "\n",
    "class Student(Person):\n",
    "  def __init__(self, fname, lname):\n",
    "    Person.__init__(self, fname, lname)\n",
    "    \n",
    "#or\n",
    "\n",
    "class Student(Person):\n",
    "  def __init__(self, fname, lname):\n",
    "    super().__init__(fname, lname)\n",
    "\n",
    "    "
   ]
  },
  {
   "cell_type": "code",
   "execution_count": 109,
   "metadata": {},
   "outputs": [
    {
     "name": "stdout",
     "output_type": "stream",
     "text": [
      "Welcome Sini Raj to the class of 2023\n"
     ]
    }
   ],
   "source": [
    "#Python also has a super() function that will make the child class inherit all the methods and properties from its parent\n",
    "class Person:\n",
    "  def __init__(self, fname, lname):\n",
    "    self.firstname = fname\n",
    "    self.lastname = lname\n",
    "\n",
    "  def printname(self):\n",
    "    print(self.firstname, self.lastname)\n",
    "\n",
    "class Student(Person):\n",
    "  def __init__(self, fname, lname, year):\n",
    "    super().__init__(fname, lname)\n",
    "    self.graduationyear = year\n",
    "\n",
    "  def welcome(self):\n",
    "    print(\"Welcome\", self.firstname, self.lastname, \"to the class of\", self.graduationyear)\n",
    "\n",
    "x = Student(\"Sini\", \"Raj\", 2023)\n",
    "x.welcome()"
   ]
  },
  {
   "cell_type": "code",
   "execution_count": 103,
   "metadata": {},
   "outputs": [],
   "source": [
    "\n",
    "\n",
    "'''\n",
    "Go create a separate file mymodule.py\n",
    "\n",
    "with content as \n",
    "\n",
    "\n",
    "def greeting(name):\n",
    "  print(\"Hello, \" + name)\n",
    "\n",
    "'''"
   ]
  },
  {
   "cell_type": "code",
   "execution_count": 51,
   "metadata": {},
   "outputs": [
    {
     "name": "stdout",
     "output_type": "stream",
     "text": [
      "Hello, Jonathan\n"
     ]
    }
   ],
   "source": [
    "import mymodule\n",
    "\n",
    "mymodule.greeting(\"Jonathan\")"
   ]
  },
  {
   "cell_type": "code",
   "execution_count": 118,
   "metadata": {},
   "outputs": [
    {
     "name": "stdout",
     "output_type": "stream",
     "text": [
      "Hello, Sini\n",
      "None\n"
     ]
    }
   ],
   "source": [
    "import mymodule as m\n",
    "print(m.greeting(\"Sini\"))\n"
   ]
  },
  {
   "cell_type": "code",
   "execution_count": null,
   "metadata": {},
   "outputs": [],
   "source": []
  },
  {
   "cell_type": "code",
   "execution_count": null,
   "metadata": {},
   "outputs": [],
   "source": []
  }
 ],
 "metadata": {
  "kernelspec": {
   "display_name": "Python 3",
   "language": "python",
   "name": "python3"
  },
  "language_info": {
   "codemirror_mode": {
    "name": "ipython",
    "version": 3
   },
   "file_extension": ".py",
   "mimetype": "text/x-python",
   "name": "python",
   "nbconvert_exporter": "python",
   "pygments_lexer": "ipython3",
   "version": "3.7.6"
  }
 },
 "nbformat": 4,
 "nbformat_minor": 4
}
